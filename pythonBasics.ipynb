{
  "cells": [
    {
      "cell_type": "markdown",
      "source": [
        "# Python Basics"
      ],
      "metadata": {
        "id": "nEkUcKNNoroO"
      }
    },
    {
      "cell_type": "markdown",
      "source": [
        "Notebook by:\n",
        "Romina Piunno \\\\\n",
        "Department of Physics \\\\\n",
        "University of Toronto \\\\\n",
        "Feb. 2021"
      ],
      "metadata": {
        "id": "iu81_HDGJ2Ql"
      }
    },
    {
      "cell_type": "markdown",
      "source": [
        "## Objects"
      ],
      "metadata": {
        "id": "rA4lXQDXpvSf"
      }
    },
    {
      "cell_type": "markdown",
      "source": [
        "Everything in Python is an \"object\". Objects can be variables, functions, data structures, etc. What they all have in common is that they each have a uniquie identifier such that they can be referenced in memory. "
      ],
      "metadata": {
        "id": "fbOG1mj1p15a"
      }
    },
    {
      "cell_type": "code",
      "source": [
        "import numpy as np\n",
        "import random\n",
        "import time"
      ],
      "outputs": [],
      "execution_count": 1,
      "metadata": {
        "id": "IxWZKccBrfp7",
        "execution": {
          "iopub.status.busy": "2022-03-26T18:59:35.663Z",
          "iopub.execute_input": "2022-03-26T18:59:35.676Z",
          "iopub.status.idle": "2022-03-26T18:59:39.352Z",
          "shell.execute_reply": "2022-03-26T18:59:39.499Z"
        }
      }
    },
    {
      "cell_type": "code",
      "source": [
        "# Let's look at a numpy array as an example\n",
        "a = np.array([[3,1,4,1,5,9], [2,7,1,8,2,8]])\n",
        "print(a)"
      ],
      "outputs": [
        {
          "output_type": "stream",
          "name": "stdout",
          "text": [
            "[[3 1 4 1 5 9]\n",
            " [2 7 1 8 2 8]]\n"
          ]
        }
      ],
      "execution_count": 2,
      "metadata": {
        "colab": {
          "base_uri": "https://localhost:8080/"
        },
        "id": "sEEfWrsjorJm",
        "outputId": "15b7b541-2b81-4e2e-f204-32a80d14dabc",
        "execution": {
          "iopub.status.busy": "2022-03-26T18:59:39.364Z",
          "iopub.execute_input": "2022-03-26T18:59:39.371Z",
          "iopub.status.idle": "2022-03-26T18:59:39.455Z",
          "shell.execute_reply": "2022-03-26T18:59:39.503Z"
        }
      }
    },
    {
      "cell_type": "markdown",
      "source": [
        "Objects have \"attributes\" \\\\\n",
        "we can access these attributes using a period after the variable name"
      ],
      "metadata": {
        "id": "9HxV635Er1mP"
      }
    },
    {
      "cell_type": "code",
      "source": [
        "# arrays have a shape and size\n",
        "print(a.shape, a.size)"
      ],
      "outputs": [
        {
          "output_type": "stream",
          "name": "stdout",
          "text": [
            "(2, 6) 12\n"
          ]
        }
      ],
      "execution_count": 3,
      "metadata": {
        "colab": {
          "base_uri": "https://localhost:8080/"
        },
        "id": "l_t3-Zk0roxJ",
        "outputId": "97accebd-b9bf-4222-8121-cc836596cdf1",
        "execution": {
          "iopub.status.busy": "2022-03-26T18:59:39.467Z",
          "iopub.execute_input": "2022-03-26T18:59:39.475Z",
          "iopub.status.idle": "2022-03-26T18:59:39.492Z",
          "shell.execute_reply": "2022-03-26T18:59:39.507Z"
        }
      }
    },
    {
      "cell_type": "markdown",
      "source": [
        "Objects also have \"methods\". These are actions that the object knows how to do. \\\\\n",
        "We also call methods using a period after the variable name. We can tell the difference between an attribute and a method because methods are always followed by parentheses () which may or may not contain additional arguemnets."
      ],
      "metadata": {
        "id": "FV07cEhktZ39"
      }
    },
    {
      "cell_type": "code",
      "source": [
        "# arrays can be sorted\n",
        "a.sort()\n",
        "print(a)"
      ],
      "outputs": [
        {
          "output_type": "stream",
          "name": "stdout",
          "text": [
            "[[1 1 3 4 5 9]\n",
            " [1 2 2 7 8 8]]\n"
          ]
        }
      ],
      "execution_count": null,
      "metadata": {
        "colab": {
          "base_uri": "https://localhost:8080/"
        },
        "id": "Btw1Rv3rsECD",
        "outputId": "9b8fe222-2c73-441d-a6e9-773293e51c58"
      }
    },
    {
      "cell_type": "code",
      "source": [
        "# we can pass an *argument* to sort along a different axis\n",
        "a.sort(axis=0)\n",
        "print(a)"
      ],
      "outputs": [
        {
          "output_type": "stream",
          "name": "stdout",
          "text": [
            "[[1 1 2 4 5 8]\n",
            " [1 2 3 7 8 9]]\n"
          ]
        }
      ],
      "execution_count": null,
      "metadata": {
        "colab": {
          "base_uri": "https://localhost:8080/"
        },
        "id": "60PBSsczs2rK",
        "outputId": "951ca5d2-9a90-444c-b620-33aad5623ba8"
      }
    },
    {
      "cell_type": "markdown",
      "source": [
        "## Lists vs. Dictionaries"
      ],
      "metadata": {
        "id": "5x0XRGRh12NI"
      }
    },
    {
      "cell_type": "markdown",
      "source": [
        "Let's say I want to store the phone numbers of all my friends. We need to couple a name to a phone number. There are multiple ways to do this."
      ],
      "metadata": {
        "id": "1nfcadZj2P0d"
      }
    },
    {
      "cell_type": "code",
      "source": [
        "my_friends = ['Elmo', 'Oscar', 'Big Bird', 'Cookie Monster', 'Ernie', 'Bert', 'Grover']\n",
        "# We can use a list of tuples, or a dictionary for instance\n",
        "phone_list = []\n",
        "phone_dict = {}\n",
        "for friend in my_friends:\n",
        "  phone_num = random.randint(100,999)\n",
        "  phone_list.append((friend, phone_num))\n",
        "  phone_dict[friend] = phone_num\n",
        "\n",
        "print(phone_list)\n",
        "print(phone_dict)"
      ],
      "outputs": [
        {
          "output_type": "stream",
          "name": "stdout",
          "text": [
            "[('Elmo', 100), ('Oscar', 172), ('Big Bird', 914), ('Cookie Monster', 141), ('Ernie', 955), ('Bert', 177), ('Grover', 726)]\n",
            "{'Elmo': 100, 'Oscar': 172, 'Big Bird': 914, 'Cookie Monster': 141, 'Ernie': 955, 'Bert': 177, 'Grover': 726}\n"
          ]
        }
      ],
      "execution_count": null,
      "metadata": {
        "colab": {
          "base_uri": "https://localhost:8080/"
        },
        "id": "mzeM8reL2nmN",
        "outputId": "98111a72-1514-4814-e3a6-fb43694eacb5"
      }
    },
    {
      "cell_type": "code",
      "source": [
        "# dictionaries are objects with attributes \"keys\" and \"values\"\n",
        "\n",
        "# keys are used for indexing\n",
        "print(phone_dict.keys())\n",
        "\n",
        "# values are what is stored under the key index\n",
        "print(phone_dict.values())\n",
        "\n",
        "'''\n",
        "note: we're calling the keys and values as methods so python returns their\n",
        "string representation rather than a memory address to where the key and value\n",
        "objects are kept in memory\n",
        "'''"
      ],
      "outputs": [
        {
          "output_type": "stream",
          "name": "stdout",
          "text": [
            "dict_keys(['Elmo', 'Oscar', 'Big Bird', 'Cookie Monster', 'Ernie', 'Bert', 'Grover'])\n",
            "dict_values([100, 172, 914, 141, 955, 177, 726])\n"
          ]
        },
        {
          "output_type": "execute_result",
          "execution_count": 9,
          "data": {
            "application/vnd.google.colaboratory.intrinsic+json": {
              "type": "string"
            },
            "text/plain": "\"\\nnote: we're calling the keys and values as methods so python returns their\\nstring representation rather than a memory address to where the key and value\\nobjects are kept in memory\\n\""
          },
          "metadata": {
            "tags": []
          }
        }
      ],
      "execution_count": null,
      "metadata": {
        "colab": {
          "base_uri": "https://localhost:8080/",
          "height": 88
        },
        "id": "Ag5yZ3Or5ebt",
        "outputId": "96286abf-07b8-4f00-8079-79c8c8a87f11"
      }
    },
    {
      "cell_type": "code",
      "source": [
        "# suppose we want to find Elmo's phone number\n",
        "\n",
        "# list version\n",
        "for i in phone_list:\n",
        "  if i[0] == 'Elmo':\n",
        "    print(\"Elmo's phone number:\", i[1])\n",
        "\n",
        "\n",
        "# dictioary version\n",
        "print(\"Elmo's phone number:\", phone_dict['Elmo'])"
      ],
      "outputs": [
        {
          "output_type": "stream",
          "name": "stdout",
          "text": [
            "Elmo's phone number: 100\n",
            "Elmo's phone number: 100\n"
          ]
        }
      ],
      "execution_count": null,
      "metadata": {
        "colab": {
          "base_uri": "https://localhost:8080/"
        },
        "id": "4qM7ZK474UKN",
        "outputId": "afa598e1-b6a5-4252-9933-9c47455f170c"
      }
    },
    {
      "cell_type": "markdown",
      "source": [
        "Dictionaries are much faster than lists!"
      ],
      "metadata": {
        "id": "sayuZwDp16Ey"
      }
    },
    {
      "cell_type": "code",
      "source": [
        "n = 10000000\n",
        "\n",
        "rand_dict = {}\n",
        "rand_list = [None] * n # initialize an empty list\n",
        "\n",
        "for i in range(n):\n",
        "  num = random.randint(0,n)\n",
        "  rand_dict[num] = True\n",
        "  rand_list[i] = num"
      ],
      "outputs": [],
      "execution_count": null,
      "metadata": {
        "id": "tTPYUzgIt_iM"
      }
    },
    {
      "cell_type": "code",
      "source": [
        "test_num = 165164580000\n",
        "start = time.time()\n",
        "print(test_num in rand_dict)\n",
        "end = time.time()\n",
        "print('Time elapsed:', end - start)"
      ],
      "outputs": [
        {
          "output_type": "stream",
          "name": "stdout",
          "text": [
            "False\n",
            "Time elapsed: 0.0012021064758300781\n"
          ]
        }
      ],
      "execution_count": null,
      "metadata": {
        "colab": {
          "base_uri": "https://localhost:8080/"
        },
        "id": "hTm7UNS6whBg",
        "outputId": "ce4a5324-4e92-4471-c303-960741cb9480"
      }
    },
    {
      "cell_type": "code",
      "source": [
        "start = time.time()\n",
        "print(test_num in rand_list)\n",
        "end = time.time()\n",
        "print('Time elapsed:', end - start)"
      ],
      "outputs": [
        {
          "output_type": "stream",
          "name": "stdout",
          "text": [
            "False\n",
            "Time elapsed: 0.1551964282989502\n"
          ]
        }
      ],
      "execution_count": null,
      "metadata": {
        "colab": {
          "base_uri": "https://localhost:8080/"
        },
        "id": "bjAdvzA2yRev",
        "outputId": "9eab2f00-a2ba-4ef2-9a62-b48ecf3ddf7b"
      }
    },
    {
      "cell_type": "markdown",
      "source": [
        "Each obviosly has their place. If you need quick acess to *unsorted* values, use a dictionary. If speed isn't an issue and you want to be able to sort your values, use a list"
      ],
      "metadata": {
        "id": "x0XEZiq35XSK"
      }
    },
    {
      "cell_type": "markdown",
      "source": [
        "## A note on lists and pointers"
      ],
      "metadata": {
        "id": "jQM5HXNB6tfV"
      }
    },
    {
      "cell_type": "code",
      "source": [
        "# let's define a list\n",
        "a = [1,2,3,4,5]\n",
        "print(a)"
      ],
      "outputs": [
        {
          "output_type": "stream",
          "name": "stdout",
          "text": [
            "[1, 2, 3, 4, 5]\n"
          ]
        }
      ],
      "execution_count": null,
      "metadata": {
        "colab": {
          "base_uri": "https://localhost:8080/"
        },
        "id": "UU4Iu-Pa1PPe",
        "outputId": "416c2921-3476-4e63-8eb9-50f3c484828f"
      }
    },
    {
      "cell_type": "code",
      "source": [
        "# let's say we want another list just like a\n",
        "b = a\n",
        "print(b)"
      ],
      "outputs": [
        {
          "output_type": "stream",
          "name": "stdout",
          "text": [
            "[1, 2, 3, 4, 5]\n"
          ]
        }
      ],
      "execution_count": null,
      "metadata": {
        "colab": {
          "base_uri": "https://localhost:8080/"
        },
        "id": "ZpPRWy-X63nq",
        "outputId": "1e09731b-a794-47d8-895d-5340f27b8636"
      }
    },
    {
      "cell_type": "markdown",
      "source": [
        "b is a *pointer* to list a. Think of this as a home address to where a lives in memory. If we modify b, it also updates a because it is *pointing* to the same spot in memory."
      ],
      "metadata": {
        "id": "m0NZOoZc7LOp"
      }
    },
    {
      "cell_type": "code",
      "source": [
        "b[3] = 7\n",
        "print(b)\n",
        "print(a)"
      ],
      "outputs": [
        {
          "output_type": "stream",
          "name": "stdout",
          "text": [
            "[1, 2, 3, 7, 5]\n",
            "[1, 2, 3, 7, 5]\n"
          ]
        }
      ],
      "execution_count": null,
      "metadata": {
        "colab": {
          "base_uri": "https://localhost:8080/"
        },
        "id": "Ausj0mS17B3o",
        "outputId": "edf399e3-59e8-4763-a568-54019e3d4f19"
      }
    },
    {
      "cell_type": "code",
      "source": [
        "# a and b, are both stil pointers to the same place in memory.\n",
        "# whatever we do to one, also applies to the other\n",
        "a[3] = 4\n",
        "print(a)\n",
        "print(b)"
      ],
      "outputs": [
        {
          "output_type": "stream",
          "name": "stdout",
          "text": [
            "[1, 2, 3, 4, 5]\n",
            "[1, 2, 3, 4, 5]\n"
          ]
        }
      ],
      "execution_count": null,
      "metadata": {
        "colab": {
          "base_uri": "https://localhost:8080/"
        },
        "id": "-ikkTN978Cn2",
        "outputId": "0f2d3cfb-2211-42e4-c6f5-05df0ced7f07"
      }
    },
    {
      "cell_type": "markdown",
      "source": [
        "If we don't was a pointer to a, but rather a copy that we can modify independently, then we use the following syntax."
      ],
      "metadata": {
        "id": "WMVbzuSL7q4N"
      }
    },
    {
      "cell_type": "code",
      "source": [
        "c = a[:]\n",
        "c[3] = 9\n",
        "print(c)\n",
        "print(a)"
      ],
      "outputs": [
        {
          "output_type": "stream",
          "name": "stdout",
          "text": [
            "[1, 2, 3, 9, 5]\n",
            "[1, 2, 3, 4, 5]\n"
          ]
        }
      ],
      "execution_count": null,
      "metadata": {
        "colab": {
          "base_uri": "https://localhost:8080/"
        },
        "id": "cPkUyElC7oth",
        "outputId": "c57fb965-5a71-4515-875a-5d73f6363b87"
      }
    },
    {
      "cell_type": "code",
      "source": [],
      "outputs": [],
      "execution_count": null,
      "metadata": {
        "id": "QihgNnk6_GlH"
      }
    }
  ],
  "metadata": {
    "colab": {
      "name": "pythonBasics.ipynb",
      "provenance": []
    },
    "kernelspec": {
      "name": "python3",
      "display_name": "Python 3"
    },
    "language_info": {
      "name": "python",
      "version": "3.7.6",
      "mimetype": "text/x-python",
      "codemirror_mode": {
        "name": "ipython",
        "version": 3
      },
      "pygments_lexer": "ipython3",
      "nbconvert_exporter": "python",
      "file_extension": ".py"
    },
    "nteract": {
      "version": "0.28.0"
    }
  },
  "nbformat": 4,
  "nbformat_minor": 0
}